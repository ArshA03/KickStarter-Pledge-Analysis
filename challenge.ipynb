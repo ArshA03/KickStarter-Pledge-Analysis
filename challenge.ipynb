{
 "cells": [
  {
   "cell_type": "markdown",
   "metadata": {},
   "source": [
    "## Importing DB"
   ]
  },
  {
   "cell_type": "markdown",
   "metadata": {},
   "source": [
    "Connecting to the DB"
   ]
  },
  {
   "cell_type": "code",
   "execution_count": 1,
   "metadata": {},
   "outputs": [],
   "source": [
    "import sqlite3\n",
    "\n",
    "conn = sqlite3.connect(\"kickstarter.db\")\n",
    "cursor = conn.cursor()"
   ]
  },
  {
   "cell_type": "code",
   "execution_count": 2,
   "metadata": {},
   "outputs": [],
   "source": [
    "# Creating Campaign table which is the main table\n",
    "campaign_table = \"\"\"\n",
    "CREATE TABLE IF NOT EXISTS Campaign (\n",
    "    id INTEGER PRIMARY KEY,\n",
    "    name TEXT,\n",
    "    sub_category_id INTEGER,\n",
    "    country_id INTEGER,\n",
    "    currency_id INTEGER,\n",
    "    launched DATETIME,\n",
    "    deadline DATETIME,\n",
    "    goal REAL,\n",
    "    pledged REAL,\n",
    "    backers INTEGER,\n",
    "    outcome TEXT,\n",
    "    FOREIGN KEY (sub_category_id) REFERENCES Sub_category(id),\n",
    "    FOREIGN KEY (country_id) REFERENCES Country(id),\n",
    "    FOREIGN KEY (currency_id) REFERENCES Currency(id)\n",
    ");\n",
    "\"\"\"\n",
    "\n",
    "# Execute the updated SQL command\n",
    "cursor.execute(campaign_table)\n",
    "\n",
    "# Commit the changes and close the connection\n",
    "conn.commit()\n",
    "# conn.close()"
   ]
  },
  {
   "cell_type": "code",
   "execution_count": 3,
   "metadata": {},
   "outputs": [],
   "source": [
    "# Creating Other tables\n",
    "\n",
    "# Country table\n",
    "cursor.execute(\"\"\"\n",
    "CREATE TABLE IF NOT EXISTS Country (\n",
    "    id INTEGER PRIMARY KEY,\n",
    "    name TEXT\n",
    ");\n",
    "\"\"\")\n",
    "\n",
    "# Currency table\n",
    "cursor.execute(\"\"\"\n",
    "CREATE TABLE IF NOT EXISTS Currency (\n",
    "    id INTEGER PRIMARY KEY,\n",
    "    name TEXT\n",
    ");\n",
    "\"\"\")\n",
    "\n",
    "# Category table\n",
    "cursor.execute(\"\"\"\n",
    "CREATE TABLE IF NOT EXISTS Category (\n",
    "    id INTEGER PRIMARY KEY,\n",
    "    name TEXT\n",
    ");\n",
    "\"\"\")\n",
    "\n",
    "# Sub_category table\n",
    "cursor.execute(\"\"\"\n",
    "CREATE TABLE IF NOT EXISTS Sub_category (\n",
    "    id INTEGER PRIMARY KEY,\n",
    "    name TEXT,\n",
    "    category_id INTEGER,\n",
    "    FOREIGN KEY (category_id) REFERENCES Category(id)\n",
    ");\n",
    "\"\"\")\n",
    "\n",
    "conn.commit()\n",
    "# conn.close()\n"
   ]
  },
  {
   "cell_type": "code",
   "execution_count": 3,
   "metadata": {},
   "outputs": [
    {
     "data": {
      "text/plain": [
       "[('1',\n",
       "  'Ragdolls',\n",
       "  23,\n",
       "  2,\n",
       "  2,\n",
       "  '2013-04-25 00:00:00',\n",
       "  '2013-05-25 00:00:00',\n",
       "  15000.0,\n",
       "  20.0,\n",
       "  3,\n",
       "  'failed'),\n",
       " ('2',\n",
       "  'One To Ten',\n",
       "  47,\n",
       "  1,\n",
       "  1,\n",
       "  '2015-11-16 00:00:00',\n",
       "  '2015-12-16 00:00:00',\n",
       "  223.68,\n",
       "  413.81,\n",
       "  23,\n",
       "  'successful'),\n",
       " ('3',\n",
       "  'Future Gun - A short film about kids and advanced hardware',\n",
       "  24,\n",
       "  2,\n",
       "  2,\n",
       "  '2013-08-28 00:00:00',\n",
       "  '2013-09-27 00:00:00',\n",
       "  5000.0,\n",
       "  1497.0,\n",
       "  28,\n",
       "  'failed'),\n",
       " ('4',\n",
       "  'Fourth Wave Apparel\\x14Vintage Fashion for the Modern Feminist',\n",
       "  52,\n",
       "  2,\n",
       "  2,\n",
       "  '2014-07-22 00:00:00',\n",
       "  '2014-08-21 00:00:00',\n",
       "  6000.0,\n",
       "  8795.0,\n",
       "  218,\n",
       "  'successful'),\n",
       " ('5',\n",
       "  'The Rich Lifestyle',\n",
       "  9,\n",
       "  2,\n",
       "  2,\n",
       "  '2016-08-24 00:00:00',\n",
       "  '2016-09-28 00:00:00',\n",
       "  2000000.0,\n",
       "  2.0,\n",
       "  2,\n",
       "  'failed')]"
      ]
     },
     "execution_count": 3,
     "metadata": {},
     "output_type": "execute_result"
    }
   ],
   "source": [
    "query = \"SELECT * FROM campaign LIMIT 5\"\n",
    "\n",
    "cursor.execute(query)\n",
    "cursor.fetchall()"
   ]
  },
  {
   "cell_type": "code",
   "execution_count": null,
   "metadata": {},
   "outputs": [],
   "source": []
  }
 ],
 "metadata": {
  "kernelspec": {
   "display_name": "kickstarter-pledge-analysis-UB69aM3j-py3.12",
   "language": "python",
   "name": "python3"
  },
  "language_info": {
   "codemirror_mode": {
    "name": "ipython",
    "version": 3
   },
   "file_extension": ".py",
   "mimetype": "text/x-python",
   "name": "python",
   "nbconvert_exporter": "python",
   "pygments_lexer": "ipython3",
   "version": "3.12.1"
  }
 },
 "nbformat": 4,
 "nbformat_minor": 2
}
