{
 "cells": [
  {
   "cell_type": "markdown",
   "metadata": {},
   "source": [
    "## Importing DB"
   ]
  },
  {
   "cell_type": "markdown",
   "metadata": {},
   "source": [
    "Connecting to the DB"
   ]
  },
  {
   "cell_type": "code",
   "execution_count": 2,
   "metadata": {},
   "outputs": [],
   "source": [
    "import sqlite3\n",
    "\n",
    "conn = sqlite3.connect(\"kickstarter.db\")\n",
    "cursor = conn.cursor()"
   ]
  },
  {
   "cell_type": "code",
   "execution_count": 2,
   "metadata": {},
   "outputs": [],
   "source": [
    "# Creating Campaign table which is the main table\n",
    "campaign_table = \"\"\"\n",
    "CREATE TABLE IF NOT EXISTS Campaign (\n",
    "    id INTEGER PRIMARY KEY,\n",
    "    name TEXT,\n",
    "    sub_category_id INTEGER,\n",
    "    country_id INTEGER,\n",
    "    currency_id INTEGER,\n",
    "    launched DATETIME,\n",
    "    deadline DATETIME,\n",
    "    goal REAL,\n",
    "    pledged REAL,\n",
    "    backers INTEGER,\n",
    "    outcome TEXT,\n",
    "    FOREIGN KEY (sub_category_id) REFERENCES Sub_category(id),\n",
    "    FOREIGN KEY (country_id) REFERENCES Country(id),\n",
    "    FOREIGN KEY (currency_id) REFERENCES Currency(id)\n",
    ");\n",
    "\"\"\"\n",
    "\n",
    "# Execute the updated SQL command\n",
    "cursor.execute(campaign_table)\n",
    "\n",
    "# Commit the changes and close the connection\n",
    "conn.commit()\n",
    "# conn.close()"
   ]
  },
  {
   "cell_type": "code",
   "execution_count": 3,
   "metadata": {},
   "outputs": [],
   "source": [
    "# Creating Other tables\n",
    "\n",
    "# Country table\n",
    "cursor.execute(\"\"\"\n",
    "CREATE TABLE IF NOT EXISTS Country (\n",
    "    id INTEGER PRIMARY KEY,\n",
    "    name TEXT\n",
    ");\n",
    "\"\"\")\n",
    "\n",
    "# Currency table\n",
    "cursor.execute(\"\"\"\n",
    "CREATE TABLE IF NOT EXISTS Currency (\n",
    "    id INTEGER PRIMARY KEY,\n",
    "    name TEXT\n",
    ");\n",
    "\"\"\")\n",
    "\n",
    "# Category table\n",
    "cursor.execute(\"\"\"\n",
    "CREATE TABLE IF NOT EXISTS Category (\n",
    "    id INTEGER PRIMARY KEY,\n",
    "    name TEXT\n",
    ");\n",
    "\"\"\")\n",
    "\n",
    "# Sub_category table\n",
    "cursor.execute(\"\"\"\n",
    "CREATE TABLE IF NOT EXISTS Sub_category (\n",
    "    id INTEGER PRIMARY KEY,\n",
    "    name TEXT,\n",
    "    category_id INTEGER,\n",
    "    FOREIGN KEY (category_id) REFERENCES Category(id)\n",
    ");\n",
    "\"\"\")\n",
    "\n",
    "conn.commit()\n",
    "# conn.close()\n"
   ]
  },
  {
   "cell_type": "code",
   "execution_count": 5,
   "metadata": {},
   "outputs": [
    {
     "name": "stdout",
     "output_type": "stream",
     "text": [
      "No NULL values in any table.\n"
     ]
    }
   ],
   "source": [
    "import pandas as pd\n",
    "\n",
    "# List of tables to check\n",
    "tables = ['Campaign', 'Country', 'Currency', 'Category', 'Sub_category']\n",
    "\n",
    "# Dictionary to store results\n",
    "null_counts = {}\n",
    "\n",
    "for table in tables:\n",
    "    # Get column names for each table\n",
    "    cursor.execute(f\"PRAGMA table_info({table})\")\n",
    "    columns = [column[1] for column in cursor.fetchall()]\n",
    "    \n",
    "    # Check NULL values for each column\n",
    "    for column in columns:\n",
    "        query = f\"SELECT COUNT(*) FROM {table} WHERE {column} IS NULL\"\n",
    "        cursor.execute(query)\n",
    "        count = cursor.fetchone()[0]\n",
    "        \n",
    "        # Only store if there are NULL values\n",
    "        if count > 0:\n",
    "            null_counts[f\"{table}.{column}\"] = count\n",
    "\n",
    "# Convert results to DataFrame for better visualization\n",
    "if null_counts:\n",
    "    df_nulls = pd.DataFrame.from_dict(null_counts, orient='index', columns=['NULL Count'])\n",
    "    print(\"Columns with NULL values:\")\n",
    "    print(df_nulls)\n",
    "else:\n",
    "    print(\"No NULL values in any table.\")"
   ]
  },
  {
   "cell_type": "code",
   "execution_count": null,
   "metadata": {},
   "outputs": [],
   "source": []
  }
 ],
 "metadata": {
  "kernelspec": {
   "display_name": "kickstarter-pledge-analysis-UB69aM3j-py3.12",
   "language": "python",
   "name": "python3"
  },
  "language_info": {
   "codemirror_mode": {
    "name": "ipython",
    "version": 3
   },
   "file_extension": ".py",
   "mimetype": "text/x-python",
   "name": "python",
   "nbconvert_exporter": "python",
   "pygments_lexer": "ipython3",
   "version": "3.12.1"
  }
 },
 "nbformat": 4,
 "nbformat_minor": 2
}
